{
 "cells": [
  {
   "cell_type": "code",
   "execution_count": 580,
   "metadata": {
    "collapsed": true
   },
   "outputs": [],
   "source": [
    "#import dependencies\n",
    "import csv\n",
    "import os\n",
    "import pandas as pd"
   ]
  },
  {
   "cell_type": "code",
   "execution_count": 581,
   "metadata": {
    "collapsed": true
   },
   "outputs": [],
   "source": [
    "#file Locations\n",
    "school_file = os.path.join(\"schools_complete.csv\")\n",
    "student_file = os.path.join(\"students_complete.csv\")"
   ]
  },
  {
   "cell_type": "code",
   "execution_count": 582,
   "metadata": {},
   "outputs": [],
   "source": [
    "#read csv into data Frame\n",
    "schools_df = pd.read_csv(school_file)\n",
    "students_df = pd.read_csv(student_file) \n"
   ]
  },
  {
   "cell_type": "code",
   "execution_count": 583,
   "metadata": {
    "collapsed": true
   },
   "outputs": [],
   "source": [
    "#change the name column of schools_df to school\n",
    "#To make merging easy\n",
    "schools_df = schools_df.rename(columns = {\"name\":\"school\"})"
   ]
  },
  {
   "cell_type": "code",
   "execution_count": 584,
   "metadata": {},
   "outputs": [
    {
     "data": {
      "text/html": [
       "<div>\n",
       "<style scoped>\n",
       "    .dataframe tbody tr th:only-of-type {\n",
       "        vertical-align: middle;\n",
       "    }\n",
       "\n",
       "    .dataframe tbody tr th {\n",
       "        vertical-align: top;\n",
       "    }\n",
       "\n",
       "    .dataframe thead th {\n",
       "        text-align: right;\n",
       "    }\n",
       "</style>\n",
       "<table border=\"1\" class=\"dataframe\">\n",
       "  <thead>\n",
       "    <tr style=\"text-align: right;\">\n",
       "      <th></th>\n",
       "      <th>School ID</th>\n",
       "      <th>school</th>\n",
       "      <th>type</th>\n",
       "      <th>size</th>\n",
       "      <th>budget</th>\n",
       "    </tr>\n",
       "  </thead>\n",
       "  <tbody>\n",
       "    <tr>\n",
       "      <th>0</th>\n",
       "      <td>0</td>\n",
       "      <td>Huang High School</td>\n",
       "      <td>District</td>\n",
       "      <td>2917</td>\n",
       "      <td>1910635</td>\n",
       "    </tr>\n",
       "    <tr>\n",
       "      <th>1</th>\n",
       "      <td>1</td>\n",
       "      <td>Figueroa High School</td>\n",
       "      <td>District</td>\n",
       "      <td>2949</td>\n",
       "      <td>1884411</td>\n",
       "    </tr>\n",
       "    <tr>\n",
       "      <th>2</th>\n",
       "      <td>2</td>\n",
       "      <td>Shelton High School</td>\n",
       "      <td>Charter</td>\n",
       "      <td>1761</td>\n",
       "      <td>1056600</td>\n",
       "    </tr>\n",
       "    <tr>\n",
       "      <th>3</th>\n",
       "      <td>3</td>\n",
       "      <td>Hernandez High School</td>\n",
       "      <td>District</td>\n",
       "      <td>4635</td>\n",
       "      <td>3022020</td>\n",
       "    </tr>\n",
       "    <tr>\n",
       "      <th>4</th>\n",
       "      <td>4</td>\n",
       "      <td>Griffin High School</td>\n",
       "      <td>Charter</td>\n",
       "      <td>1468</td>\n",
       "      <td>917500</td>\n",
       "    </tr>\n",
       "    <tr>\n",
       "      <th>5</th>\n",
       "      <td>5</td>\n",
       "      <td>Wilson High School</td>\n",
       "      <td>Charter</td>\n",
       "      <td>2283</td>\n",
       "      <td>1319574</td>\n",
       "    </tr>\n",
       "    <tr>\n",
       "      <th>6</th>\n",
       "      <td>6</td>\n",
       "      <td>Cabrera High School</td>\n",
       "      <td>Charter</td>\n",
       "      <td>1858</td>\n",
       "      <td>1081356</td>\n",
       "    </tr>\n",
       "    <tr>\n",
       "      <th>7</th>\n",
       "      <td>7</td>\n",
       "      <td>Bailey High School</td>\n",
       "      <td>District</td>\n",
       "      <td>4976</td>\n",
       "      <td>3124928</td>\n",
       "    </tr>\n",
       "    <tr>\n",
       "      <th>8</th>\n",
       "      <td>8</td>\n",
       "      <td>Holden High School</td>\n",
       "      <td>Charter</td>\n",
       "      <td>427</td>\n",
       "      <td>248087</td>\n",
       "    </tr>\n",
       "    <tr>\n",
       "      <th>9</th>\n",
       "      <td>9</td>\n",
       "      <td>Pena High School</td>\n",
       "      <td>Charter</td>\n",
       "      <td>962</td>\n",
       "      <td>585858</td>\n",
       "    </tr>\n",
       "    <tr>\n",
       "      <th>10</th>\n",
       "      <td>10</td>\n",
       "      <td>Wright High School</td>\n",
       "      <td>Charter</td>\n",
       "      <td>1800</td>\n",
       "      <td>1049400</td>\n",
       "    </tr>\n",
       "    <tr>\n",
       "      <th>11</th>\n",
       "      <td>11</td>\n",
       "      <td>Rodriguez High School</td>\n",
       "      <td>District</td>\n",
       "      <td>3999</td>\n",
       "      <td>2547363</td>\n",
       "    </tr>\n",
       "    <tr>\n",
       "      <th>12</th>\n",
       "      <td>12</td>\n",
       "      <td>Johnson High School</td>\n",
       "      <td>District</td>\n",
       "      <td>4761</td>\n",
       "      <td>3094650</td>\n",
       "    </tr>\n",
       "    <tr>\n",
       "      <th>13</th>\n",
       "      <td>13</td>\n",
       "      <td>Ford High School</td>\n",
       "      <td>District</td>\n",
       "      <td>2739</td>\n",
       "      <td>1763916</td>\n",
       "    </tr>\n",
       "    <tr>\n",
       "      <th>14</th>\n",
       "      <td>14</td>\n",
       "      <td>Thomas High School</td>\n",
       "      <td>Charter</td>\n",
       "      <td>1635</td>\n",
       "      <td>1043130</td>\n",
       "    </tr>\n",
       "  </tbody>\n",
       "</table>\n",
       "</div>"
      ],
      "text/plain": [
       "    School ID                 school      type  size   budget\n",
       "0           0      Huang High School  District  2917  1910635\n",
       "1           1   Figueroa High School  District  2949  1884411\n",
       "2           2    Shelton High School   Charter  1761  1056600\n",
       "3           3  Hernandez High School  District  4635  3022020\n",
       "4           4    Griffin High School   Charter  1468   917500\n",
       "5           5     Wilson High School   Charter  2283  1319574\n",
       "6           6    Cabrera High School   Charter  1858  1081356\n",
       "7           7     Bailey High School  District  4976  3124928\n",
       "8           8     Holden High School   Charter   427   248087\n",
       "9           9       Pena High School   Charter   962   585858\n",
       "10         10     Wright High School   Charter  1800  1049400\n",
       "11         11  Rodriguez High School  District  3999  2547363\n",
       "12         12    Johnson High School  District  4761  3094650\n",
       "13         13       Ford High School  District  2739  1763916\n",
       "14         14     Thomas High School   Charter  1635  1043130"
      ]
     },
     "execution_count": 584,
     "metadata": {},
     "output_type": "execute_result"
    }
   ],
   "source": [
    "schools_df"
   ]
  },
  {
   "cell_type": "code",
   "execution_count": 585,
   "metadata": {},
   "outputs": [
    {
     "data": {
      "text/html": [
       "<div>\n",
       "<style scoped>\n",
       "    .dataframe tbody tr th:only-of-type {\n",
       "        vertical-align: middle;\n",
       "    }\n",
       "\n",
       "    .dataframe tbody tr th {\n",
       "        vertical-align: top;\n",
       "    }\n",
       "\n",
       "    .dataframe thead th {\n",
       "        text-align: right;\n",
       "    }\n",
       "</style>\n",
       "<table border=\"1\" class=\"dataframe\">\n",
       "  <thead>\n",
       "    <tr style=\"text-align: right;\">\n",
       "      <th></th>\n",
       "      <th>Student ID</th>\n",
       "      <th>name</th>\n",
       "      <th>gender</th>\n",
       "      <th>grade</th>\n",
       "      <th>school</th>\n",
       "      <th>reading_score</th>\n",
       "      <th>math_score</th>\n",
       "    </tr>\n",
       "  </thead>\n",
       "  <tbody>\n",
       "    <tr>\n",
       "      <th>0</th>\n",
       "      <td>0</td>\n",
       "      <td>Paul Bradley</td>\n",
       "      <td>M</td>\n",
       "      <td>9th</td>\n",
       "      <td>Huang High School</td>\n",
       "      <td>66</td>\n",
       "      <td>79</td>\n",
       "    </tr>\n",
       "    <tr>\n",
       "      <th>1</th>\n",
       "      <td>1</td>\n",
       "      <td>Victor Smith</td>\n",
       "      <td>M</td>\n",
       "      <td>12th</td>\n",
       "      <td>Huang High School</td>\n",
       "      <td>94</td>\n",
       "      <td>61</td>\n",
       "    </tr>\n",
       "    <tr>\n",
       "      <th>2</th>\n",
       "      <td>2</td>\n",
       "      <td>Kevin Rodriguez</td>\n",
       "      <td>M</td>\n",
       "      <td>12th</td>\n",
       "      <td>Huang High School</td>\n",
       "      <td>90</td>\n",
       "      <td>60</td>\n",
       "    </tr>\n",
       "    <tr>\n",
       "      <th>3</th>\n",
       "      <td>3</td>\n",
       "      <td>Dr. Richard Scott</td>\n",
       "      <td>M</td>\n",
       "      <td>12th</td>\n",
       "      <td>Huang High School</td>\n",
       "      <td>67</td>\n",
       "      <td>58</td>\n",
       "    </tr>\n",
       "    <tr>\n",
       "      <th>4</th>\n",
       "      <td>4</td>\n",
       "      <td>Bonnie Ray</td>\n",
       "      <td>F</td>\n",
       "      <td>9th</td>\n",
       "      <td>Huang High School</td>\n",
       "      <td>97</td>\n",
       "      <td>84</td>\n",
       "    </tr>\n",
       "  </tbody>\n",
       "</table>\n",
       "</div>"
      ],
      "text/plain": [
       "   Student ID               name gender grade             school  \\\n",
       "0           0       Paul Bradley      M   9th  Huang High School   \n",
       "1           1       Victor Smith      M  12th  Huang High School   \n",
       "2           2    Kevin Rodriguez      M  12th  Huang High School   \n",
       "3           3  Dr. Richard Scott      M  12th  Huang High School   \n",
       "4           4         Bonnie Ray      F   9th  Huang High School   \n",
       "\n",
       "   reading_score  math_score  \n",
       "0             66          79  \n",
       "1             94          61  \n",
       "2             90          60  \n",
       "3             67          58  \n",
       "4             97          84  "
      ]
     },
     "execution_count": 585,
     "metadata": {},
     "output_type": "execute_result"
    }
   ],
   "source": [
    "students_df.head()"
   ]
  },
  {
   "cell_type": "markdown",
   "metadata": {},
   "source": [
    "# District Summary"
   ]
  },
  {
   "cell_type": "code",
   "execution_count": 614,
   "metadata": {},
   "outputs": [
    {
     "data": {
      "text/plain": [
       "\"\\nDistrict Summary\\nCreate high-level snapshot (in table form) of district's key metrics, including:\\n- total schools\\n- total students (formatted with thousands separators)\\n- total budget (formatted as currency)\\n- average math score \\n- average reading score\\n- % passing math\\n- % passing reading\\n- overall passing rate (average of % passing math & % passing reading)\\n\""
      ]
     },
     "execution_count": 614,
     "metadata": {},
     "output_type": "execute_result"
    }
   ],
   "source": [
    "'''\n",
    "District Summary\n",
    "Create high-level snapshot (in table form) of district's key metrics, including:\n",
    "- total schools\n",
    "- total students (formatted with thousands separators)\n",
    "- total budget (formatted as currency)\n",
    "- average math score \n",
    "- average reading score\n",
    "- % passing math\n",
    "- % passing reading\n",
    "- overall passing rate (average of % passing math & % passing reading)\n",
    "'''"
   ]
  },
  {
   "cell_type": "code",
   "execution_count": 587,
   "metadata": {},
   "outputs": [
    {
     "data": {
      "text/plain": [
       "15"
      ]
     },
     "execution_count": 587,
     "metadata": {},
     "output_type": "execute_result"
    }
   ],
   "source": [
    "#Total number of schools\n",
    "overall_total_schools = schools_df[\"School ID\"].count()\n",
    "overall_total_schools\n"
   ]
  },
  {
   "cell_type": "code",
   "execution_count": 588,
   "metadata": {},
   "outputs": [],
   "source": [
    "#Total number of schools\n",
    "overall_total_students = students_df[\"Student ID\"].count()"
   ]
  },
  {
   "cell_type": "code",
   "execution_count": 589,
   "metadata": {
    "collapsed": true
   },
   "outputs": [],
   "source": [
    "#Calculate the total budget for each school \n",
    "overall_total_budget = schools_df[\"budget\"].sum()\n"
   ]
  },
  {
   "cell_type": "code",
   "execution_count": 590,
   "metadata": {},
   "outputs": [],
   "source": [
    "#Calculate the average maths score for all student\n",
    "average_math_score = students_df[\"math_score\"].mean()"
   ]
  },
  {
   "cell_type": "code",
   "execution_count": 591,
   "metadata": {
    "collapsed": true
   },
   "outputs": [],
   "source": [
    "#Calculate the average reading score for all students\n",
    "average_reading_score = students_df[\"reading_score\"].mean()"
   ]
  },
  {
   "cell_type": "code",
   "execution_count": 592,
   "metadata": {},
   "outputs": [],
   "source": [
    "#Get the number of students with passing score\n",
    "passing_math = students_df.loc[student_df[\"math_score\"] >= 70,[\"math_score\"]]\n",
    "pct_passing_math = passing_math[\"math_score\"].count() / overall_total_students * 100\n"
   ]
  },
  {
   "cell_type": "code",
   "execution_count": 593,
   "metadata": {
    "collapsed": true
   },
   "outputs": [],
   "source": [
    "#Get the number of student with passing reading scores\n",
    "passing_reading = students_df.loc[student_df[\"reading_score\"] >=70, [\"reading_score\"]]\n",
    "pct_passing_reading = passing_reading[\"reading_score\"].count() / overall_total_students *100"
   ]
  },
  {
   "cell_type": "code",
   "execution_count": 594,
   "metadata": {},
   "outputs": [
    {
     "data": {
      "text/plain": [
       "80.39315802910392"
      ]
     },
     "execution_count": 594,
     "metadata": {},
     "output_type": "execute_result"
    }
   ],
   "source": [
    "#Average of pct passing reading and pct passing math\n",
    "overall_passing_rate = ((pct_passing_math + pct_passing_reading) / 2)\n",
    "overall_passing_rate"
   ]
  },
  {
   "cell_type": "code",
   "execution_count": 595,
   "metadata": {},
   "outputs": [
    {
     "data": {
      "text/html": [
       "<div>\n",
       "<style scoped>\n",
       "    .dataframe tbody tr th:only-of-type {\n",
       "        vertical-align: middle;\n",
       "    }\n",
       "\n",
       "    .dataframe tbody tr th {\n",
       "        vertical-align: top;\n",
       "    }\n",
       "\n",
       "    .dataframe thead th {\n",
       "        text-align: right;\n",
       "    }\n",
       "</style>\n",
       "<table border=\"1\" class=\"dataframe\">\n",
       "  <thead>\n",
       "    <tr style=\"text-align: right;\">\n",
       "      <th></th>\n",
       "      <th>Total Schools</th>\n",
       "      <th>Total Students</th>\n",
       "      <th>Total Budget</th>\n",
       "      <th>Average Math Score</th>\n",
       "      <th>Average Reading Score</th>\n",
       "      <th>% Passing Math</th>\n",
       "      <th>% Passing Reading</th>\n",
       "      <th>Overall Passing Rate</th>\n",
       "    </tr>\n",
       "  </thead>\n",
       "  <tbody>\n",
       "    <tr>\n",
       "      <th>0</th>\n",
       "      <td>15</td>\n",
       "      <td>39,170</td>\n",
       "      <td>$24,649,428.00</td>\n",
       "      <td>78.985371</td>\n",
       "      <td>81.87784</td>\n",
       "      <td>74.980853</td>\n",
       "      <td>85.805463</td>\n",
       "      <td>80.393158</td>\n",
       "    </tr>\n",
       "  </tbody>\n",
       "</table>\n",
       "</div>"
      ],
      "text/plain": [
       "   Total Schools Total Students    Total Budget  Average Math Score  \\\n",
       "0             15         39,170  $24,649,428.00           78.985371   \n",
       "\n",
       "   Average Reading Score  % Passing Math  % Passing Reading  \\\n",
       "0               81.87784       74.980853          85.805463   \n",
       "\n",
       "   Overall Passing Rate  \n",
       "0             80.393158  "
      ]
     },
     "execution_count": 595,
     "metadata": {},
     "output_type": "execute_result"
    }
   ],
   "source": [
    "#Now that we have all columns, we will go ahead and create District Summary data Frame\n",
    "district_summary = pd.DataFrame({\n",
    "    \"Total Schools\": [overall_total_schools],\n",
    "    \"Total Students\": [overall_total_students],\n",
    "    \"Total Budget\": [overall_total_budget],\n",
    "    \"Average Math Score\": [average_math_score],\n",
    "    \"Average Reading Score\": [average_reading_score],\n",
    "    \"% Passing Math\": [pct_passing_math],\n",
    "    \"% Passing Reading\": [pct_passing_reading],\n",
    "    \"Overall Passing Rate\": [overall_passing_rate]})\n",
    "district_summary = district_summary [[\"Total Schools\", \"Total Students\", \"Total Budget\", \"Average Math Score\",\n",
    "                                    \n",
    "                                      \"Average Reading Score\", \"% Passing Math\", \"% Passing Reading\", \n",
    "                                    \"Overall Passing Rate\"]]\n",
    "\n",
    "district_summary [\"Total Students\"] = district_summary[\"Total Students\"].map(\"{:,}\".format)\n",
    "district_summary [\"Total Budget\"] = district_summary[\"Total Budget\"].map(\"${:,.2f}\".format)\n",
    "district_summary\n",
    "                                      "
   ]
  },
  {
   "cell_type": "markdown",
   "metadata": {},
   "source": [
    "# School Summary"
   ]
  },
  {
   "cell_type": "code",
   "execution_count": 596,
   "metadata": {},
   "outputs": [],
   "source": [
    "#DataFrame for passing Math student\n",
    "students_passing_math = students_df.loc[students_df[\"math_score\"] > 70]\n"
   ]
  },
  {
   "cell_type": "code",
   "execution_count": 597,
   "metadata": {},
   "outputs": [],
   "source": [
    "# reduce dataframe to include only high school name and a new field that will be used by the groupby for the \n",
    "# student counter. For now, it is initialized to zero.\n",
    "students_passing_math_red = pd.DataFrame({\"school\": students_passing_math[\"school\"],\n",
    "                                       \"nbr_students_passing_math\": 0})\n",
    "\n"
   ]
  },
  {
   "cell_type": "code",
   "execution_count": 598,
   "metadata": {},
   "outputs": [
    {
     "data": {
      "text/html": [
       "<div>\n",
       "<style scoped>\n",
       "    .dataframe tbody tr th:only-of-type {\n",
       "        vertical-align: middle;\n",
       "    }\n",
       "\n",
       "    .dataframe tbody tr th {\n",
       "        vertical-align: top;\n",
       "    }\n",
       "\n",
       "    .dataframe thead th {\n",
       "        text-align: right;\n",
       "    }\n",
       "</style>\n",
       "<table border=\"1\" class=\"dataframe\">\n",
       "  <thead>\n",
       "    <tr style=\"text-align: right;\">\n",
       "      <th></th>\n",
       "      <th>school</th>\n",
       "      <th>nbr_students_passing_math</th>\n",
       "    </tr>\n",
       "  </thead>\n",
       "  <tbody>\n",
       "    <tr>\n",
       "      <th>0</th>\n",
       "      <td>Huang High School</td>\n",
       "      <td>0</td>\n",
       "    </tr>\n",
       "    <tr>\n",
       "      <th>4</th>\n",
       "      <td>Huang High School</td>\n",
       "      <td>0</td>\n",
       "    </tr>\n",
       "    <tr>\n",
       "      <th>5</th>\n",
       "      <td>Huang High School</td>\n",
       "      <td>0</td>\n",
       "    </tr>\n",
       "    <tr>\n",
       "      <th>6</th>\n",
       "      <td>Huang High School</td>\n",
       "      <td>0</td>\n",
       "    </tr>\n",
       "    <tr>\n",
       "      <th>8</th>\n",
       "      <td>Huang High School</td>\n",
       "      <td>0</td>\n",
       "    </tr>\n",
       "  </tbody>\n",
       "</table>\n",
       "</div>"
      ],
      "text/plain": [
       "              school  nbr_students_passing_math\n",
       "0  Huang High School                          0\n",
       "4  Huang High School                          0\n",
       "5  Huang High School                          0\n",
       "6  Huang High School                          0\n",
       "8  Huang High School                          0"
      ]
     },
     "execution_count": 598,
     "metadata": {},
     "output_type": "execute_result"
    }
   ],
   "source": [
    "#place school field in leftmost position for easier visualization by hoo-mans\n",
    "students_passing_math_red = students_passing_math_red[[\"school\", \"nbr_students_passing_math\"]]\n",
    "students_passing_math_red.head()"
   ]
  },
  {
   "cell_type": "code",
   "execution_count": 599,
   "metadata": {},
   "outputs": [],
   "source": [
    " #group students passing math by high school and count. The count of students in the students_passing_math_red \n",
    "# dataset will go in the nbr_students_passing_math column.\n",
    "students_passing_math_by_school = students_passing_math_red.groupby([\"school\"]).count().reset_index()"
   ]
  },
  {
   "cell_type": "code",
   "execution_count": 600,
   "metadata": {},
   "outputs": [
    {
     "data": {
      "text/html": [
       "<div>\n",
       "<style scoped>\n",
       "    .dataframe tbody tr th:only-of-type {\n",
       "        vertical-align: middle;\n",
       "    }\n",
       "\n",
       "    .dataframe tbody tr th {\n",
       "        vertical-align: top;\n",
       "    }\n",
       "\n",
       "    .dataframe thead th {\n",
       "        text-align: right;\n",
       "    }\n",
       "</style>\n",
       "<table border=\"1\" class=\"dataframe\">\n",
       "  <thead>\n",
       "    <tr style=\"text-align: right;\">\n",
       "      <th></th>\n",
       "      <th>Student ID</th>\n",
       "      <th>name</th>\n",
       "      <th>gender</th>\n",
       "      <th>grade</th>\n",
       "      <th>school</th>\n",
       "      <th>reading_score</th>\n",
       "      <th>math_score</th>\n",
       "    </tr>\n",
       "  </thead>\n",
       "  <tbody>\n",
       "    <tr>\n",
       "      <th>1</th>\n",
       "      <td>1</td>\n",
       "      <td>Victor Smith</td>\n",
       "      <td>M</td>\n",
       "      <td>12th</td>\n",
       "      <td>Huang High School</td>\n",
       "      <td>94</td>\n",
       "      <td>61</td>\n",
       "    </tr>\n",
       "    <tr>\n",
       "      <th>2</th>\n",
       "      <td>2</td>\n",
       "      <td>Kevin Rodriguez</td>\n",
       "      <td>M</td>\n",
       "      <td>12th</td>\n",
       "      <td>Huang High School</td>\n",
       "      <td>90</td>\n",
       "      <td>60</td>\n",
       "    </tr>\n",
       "    <tr>\n",
       "      <th>4</th>\n",
       "      <td>4</td>\n",
       "      <td>Bonnie Ray</td>\n",
       "      <td>F</td>\n",
       "      <td>9th</td>\n",
       "      <td>Huang High School</td>\n",
       "      <td>97</td>\n",
       "      <td>84</td>\n",
       "    </tr>\n",
       "    <tr>\n",
       "      <th>5</th>\n",
       "      <td>5</td>\n",
       "      <td>Bryan Miranda</td>\n",
       "      <td>M</td>\n",
       "      <td>9th</td>\n",
       "      <td>Huang High School</td>\n",
       "      <td>94</td>\n",
       "      <td>94</td>\n",
       "    </tr>\n",
       "    <tr>\n",
       "      <th>6</th>\n",
       "      <td>6</td>\n",
       "      <td>Sheena Carter</td>\n",
       "      <td>F</td>\n",
       "      <td>11th</td>\n",
       "      <td>Huang High School</td>\n",
       "      <td>82</td>\n",
       "      <td>80</td>\n",
       "    </tr>\n",
       "  </tbody>\n",
       "</table>\n",
       "</div>"
      ],
      "text/plain": [
       "   Student ID             name gender grade             school  reading_score  \\\n",
       "1           1     Victor Smith      M  12th  Huang High School             94   \n",
       "2           2  Kevin Rodriguez      M  12th  Huang High School             90   \n",
       "4           4       Bonnie Ray      F   9th  Huang High School             97   \n",
       "5           5    Bryan Miranda      M   9th  Huang High School             94   \n",
       "6           6    Sheena Carter      F  11th  Huang High School             82   \n",
       "\n",
       "   math_score  \n",
       "1          61  \n",
       "2          60  \n",
       "4          84  \n",
       "5          94  \n",
       "6          80  "
      ]
     },
     "execution_count": 600,
     "metadata": {},
     "output_type": "execute_result"
    }
   ],
   "source": [
    "#create dataframe containing only students who pass reading\n",
    "students_passing_reading = students_df.loc[student_df[\"reading_score\"] > 70]\n",
    "students_passing_reading.head()"
   ]
  },
  {
   "cell_type": "code",
   "execution_count": 601,
   "metadata": {},
   "outputs": [],
   "source": [
    "# reduce dataframe to include only high school and a new, empty field to contain the student counter created\n",
    "# by the groupby in the next step\n",
    "students_passing_reading_red = pd.DataFrame({\"school\": students_passing_reading[\"school\"],\n",
    "                                          \"nbr_students_passing_reading\": 0})"
   ]
  },
  {
   "cell_type": "code",
   "execution_count": 602,
   "metadata": {},
   "outputs": [
    {
     "data": {
      "text/html": [
       "<div>\n",
       "<style scoped>\n",
       "    .dataframe tbody tr th:only-of-type {\n",
       "        vertical-align: middle;\n",
       "    }\n",
       "\n",
       "    .dataframe tbody tr th {\n",
       "        vertical-align: top;\n",
       "    }\n",
       "\n",
       "    .dataframe thead th {\n",
       "        text-align: right;\n",
       "    }\n",
       "</style>\n",
       "<table border=\"1\" class=\"dataframe\">\n",
       "  <thead>\n",
       "    <tr style=\"text-align: right;\">\n",
       "      <th></th>\n",
       "      <th>school</th>\n",
       "      <th>nbr_students_passing_reading</th>\n",
       "    </tr>\n",
       "  </thead>\n",
       "  <tbody>\n",
       "    <tr>\n",
       "      <th>1</th>\n",
       "      <td>Huang High School</td>\n",
       "      <td>0</td>\n",
       "    </tr>\n",
       "    <tr>\n",
       "      <th>2</th>\n",
       "      <td>Huang High School</td>\n",
       "      <td>0</td>\n",
       "    </tr>\n",
       "    <tr>\n",
       "      <th>4</th>\n",
       "      <td>Huang High School</td>\n",
       "      <td>0</td>\n",
       "    </tr>\n",
       "    <tr>\n",
       "      <th>5</th>\n",
       "      <td>Huang High School</td>\n",
       "      <td>0</td>\n",
       "    </tr>\n",
       "    <tr>\n",
       "      <th>6</th>\n",
       "      <td>Huang High School</td>\n",
       "      <td>0</td>\n",
       "    </tr>\n",
       "  </tbody>\n",
       "</table>\n",
       "</div>"
      ],
      "text/plain": [
       "              school  nbr_students_passing_reading\n",
       "1  Huang High School                             0\n",
       "2  Huang High School                             0\n",
       "4  Huang High School                             0\n",
       "5  Huang High School                             0\n",
       "6  Huang High School                             0"
      ]
     },
     "execution_count": 602,
     "metadata": {},
     "output_type": "execute_result"
    }
   ],
   "source": [
    "#Move DataFrame to Left column for easy visualization\n",
    "students_passing_reading_red = students_passing_reading_red[[\"school\",\"nbr_students_passing_reading\"]]\n",
    "students_passing_reading_red.head()"
   ]
  },
  {
   "cell_type": "code",
   "execution_count": 603,
   "metadata": {
    "collapsed": true
   },
   "outputs": [],
   "source": [
    "# group students passing reading by high school and count\n",
    "students_passing_reading_by_school = students_passing_reading_red.groupby(['school']).count().reset_index()"
   ]
  },
  {
   "cell_type": "code",
   "execution_count": 604,
   "metadata": {
    "collapsed": true
   },
   "outputs": [],
   "source": [
    "#group students by school to calculate average math and reading scores per school\n",
    "school_group = students_df.groupby(['school'])"
   ]
  },
  {
   "cell_type": "code",
   "execution_count": 605,
   "metadata": {
    "collapsed": true
   },
   "outputs": [],
   "source": [
    "# build dataframe with calculated average score. reset the index so school can be used for merging later\n",
    "average_scores_df = pd.DataFrame({\"avg_math_score\": school_group['math_score'].mean(),\n",
    "                              \"avg_reading_score\": school_group['reading_score'].mean()}).reset_index()"
   ]
  },
  {
   "cell_type": "code",
   "execution_count": 606,
   "metadata": {},
   "outputs": [],
   "source": [
    "# create 'super table' of schools_df, students passing reading, students passing math and average math scores.\n",
    "super_school_df = pd.merge(schools_df, avg_scores_df, on = 'school') \\\n",
    ".merge(student_passing_math_by_school, on = 'school') \\\n",
    ".merge(students_passing_reading_by_school, on = 'school') \n",
    "\n",
    "\n"
   ]
  },
  {
   "cell_type": "code",
   "execution_count": 607,
   "metadata": {
    "collapsed": true
   },
   "outputs": [],
   "source": [
    "#calculate percentage of students passing math\n",
    "pct_students_passing_math_school = (super_school_df['nbr_students_passing_math'] / super_school_df['size']) * 100"
   ]
  },
  {
   "cell_type": "code",
   "execution_count": 608,
   "metadata": {
    "collapsed": true
   },
   "outputs": [],
   "source": [
    "#calculate percentage of students passing reading\n",
    "pct_students_passing_reading_school = (super_school_df['nbr_students_passing_reading'] / \\\n",
    "                                      super_school_df['size']) * 100\n"
   ]
  },
  {
   "cell_type": "code",
   "execution_count": 609,
   "metadata": {
    "collapsed": true
   },
   "outputs": [],
   "source": [
    "#calculate overall passing rate\n",
    "overall_passing_rate_school = ((pct_students_passing_math_school + pct_students_passing_reading_school) / 2)"
   ]
  },
  {
   "cell_type": "code",
   "execution_count": 610,
   "metadata": {},
   "outputs": [
    {
     "data": {
      "text/html": [
       "<div>\n",
       "<style scoped>\n",
       "    .dataframe tbody tr th:only-of-type {\n",
       "        vertical-align: middle;\n",
       "    }\n",
       "\n",
       "    .dataframe tbody tr th {\n",
       "        vertical-align: top;\n",
       "    }\n",
       "\n",
       "    .dataframe thead th {\n",
       "        text-align: right;\n",
       "    }\n",
       "</style>\n",
       "<table border=\"1\" class=\"dataframe\">\n",
       "  <thead>\n",
       "    <tr style=\"text-align: right;\">\n",
       "      <th></th>\n",
       "      <th>School Type</th>\n",
       "      <th>Total Students</th>\n",
       "      <th>Total School Budget</th>\n",
       "      <th>Per Student Budget</th>\n",
       "      <th>Average Math Score</th>\n",
       "      <th>Average Reading Score</th>\n",
       "      <th>% Passing Math</th>\n",
       "      <th>% Passing Reading</th>\n",
       "      <th>Overall Passing Rate</th>\n",
       "    </tr>\n",
       "  </thead>\n",
       "  <tbody>\n",
       "    <tr>\n",
       "      <th>Huang High School</th>\n",
       "      <td>District</td>\n",
       "      <td>2917</td>\n",
       "      <td>$1,910,635.00</td>\n",
       "      <td>$655.00</td>\n",
       "      <td>76.629414</td>\n",
       "      <td>81.182722</td>\n",
       "      <td>63.318478</td>\n",
       "      <td>78.813850</td>\n",
       "      <td>71.066164</td>\n",
       "    </tr>\n",
       "    <tr>\n",
       "      <th>Figueroa High School</th>\n",
       "      <td>District</td>\n",
       "      <td>2949</td>\n",
       "      <td>$1,884,411.00</td>\n",
       "      <td>$639.00</td>\n",
       "      <td>76.711767</td>\n",
       "      <td>81.158020</td>\n",
       "      <td>63.750424</td>\n",
       "      <td>78.433367</td>\n",
       "      <td>71.091896</td>\n",
       "    </tr>\n",
       "    <tr>\n",
       "      <th>Shelton High School</th>\n",
       "      <td>Charter</td>\n",
       "      <td>1761</td>\n",
       "      <td>$1,056,600.00</td>\n",
       "      <td>$600.00</td>\n",
       "      <td>83.359455</td>\n",
       "      <td>83.725724</td>\n",
       "      <td>89.892107</td>\n",
       "      <td>92.617831</td>\n",
       "      <td>91.254969</td>\n",
       "    </tr>\n",
       "    <tr>\n",
       "      <th>Hernandez High School</th>\n",
       "      <td>District</td>\n",
       "      <td>4635</td>\n",
       "      <td>$3,022,020.00</td>\n",
       "      <td>$652.00</td>\n",
       "      <td>77.289752</td>\n",
       "      <td>80.934412</td>\n",
       "      <td>64.746494</td>\n",
       "      <td>78.187702</td>\n",
       "      <td>71.467098</td>\n",
       "    </tr>\n",
       "    <tr>\n",
       "      <th>Griffin High School</th>\n",
       "      <td>Charter</td>\n",
       "      <td>1468</td>\n",
       "      <td>$917,500.00</td>\n",
       "      <td>$625.00</td>\n",
       "      <td>83.351499</td>\n",
       "      <td>83.816757</td>\n",
       "      <td>89.713896</td>\n",
       "      <td>93.392371</td>\n",
       "      <td>91.553134</td>\n",
       "    </tr>\n",
       "    <tr>\n",
       "      <th>Wilson High School</th>\n",
       "      <td>Charter</td>\n",
       "      <td>2283</td>\n",
       "      <td>$1,319,574.00</td>\n",
       "      <td>$578.00</td>\n",
       "      <td>83.274201</td>\n",
       "      <td>83.989488</td>\n",
       "      <td>90.932983</td>\n",
       "      <td>93.254490</td>\n",
       "      <td>92.093736</td>\n",
       "    </tr>\n",
       "    <tr>\n",
       "      <th>Cabrera High School</th>\n",
       "      <td>Charter</td>\n",
       "      <td>1858</td>\n",
       "      <td>$1,081,356.00</td>\n",
       "      <td>$582.00</td>\n",
       "      <td>83.061895</td>\n",
       "      <td>83.975780</td>\n",
       "      <td>89.558665</td>\n",
       "      <td>93.864370</td>\n",
       "      <td>91.711518</td>\n",
       "    </tr>\n",
       "    <tr>\n",
       "      <th>Bailey High School</th>\n",
       "      <td>District</td>\n",
       "      <td>4976</td>\n",
       "      <td>$3,124,928.00</td>\n",
       "      <td>$628.00</td>\n",
       "      <td>77.048432</td>\n",
       "      <td>81.033963</td>\n",
       "      <td>64.630225</td>\n",
       "      <td>79.300643</td>\n",
       "      <td>71.965434</td>\n",
       "    </tr>\n",
       "    <tr>\n",
       "      <th>Holden High School</th>\n",
       "      <td>Charter</td>\n",
       "      <td>427</td>\n",
       "      <td>$248,087.00</td>\n",
       "      <td>$581.00</td>\n",
       "      <td>83.803279</td>\n",
       "      <td>83.814988</td>\n",
       "      <td>90.632319</td>\n",
       "      <td>92.740047</td>\n",
       "      <td>91.686183</td>\n",
       "    </tr>\n",
       "    <tr>\n",
       "      <th>Pena High School</th>\n",
       "      <td>Charter</td>\n",
       "      <td>962</td>\n",
       "      <td>$585,858.00</td>\n",
       "      <td>$609.00</td>\n",
       "      <td>83.839917</td>\n",
       "      <td>84.044699</td>\n",
       "      <td>91.683992</td>\n",
       "      <td>92.203742</td>\n",
       "      <td>91.943867</td>\n",
       "    </tr>\n",
       "    <tr>\n",
       "      <th>Wright High School</th>\n",
       "      <td>Charter</td>\n",
       "      <td>1800</td>\n",
       "      <td>$1,049,400.00</td>\n",
       "      <td>$583.00</td>\n",
       "      <td>83.682222</td>\n",
       "      <td>83.955000</td>\n",
       "      <td>90.277778</td>\n",
       "      <td>93.444444</td>\n",
       "      <td>91.861111</td>\n",
       "    </tr>\n",
       "    <tr>\n",
       "      <th>Rodriguez High School</th>\n",
       "      <td>District</td>\n",
       "      <td>3999</td>\n",
       "      <td>$2,547,363.00</td>\n",
       "      <td>$637.00</td>\n",
       "      <td>76.842711</td>\n",
       "      <td>80.744686</td>\n",
       "      <td>64.066017</td>\n",
       "      <td>77.744436</td>\n",
       "      <td>70.905226</td>\n",
       "    </tr>\n",
       "    <tr>\n",
       "      <th>Johnson High School</th>\n",
       "      <td>District</td>\n",
       "      <td>4761</td>\n",
       "      <td>$3,094,650.00</td>\n",
       "      <td>$650.00</td>\n",
       "      <td>77.072464</td>\n",
       "      <td>80.966394</td>\n",
       "      <td>63.852132</td>\n",
       "      <td>78.281874</td>\n",
       "      <td>71.067003</td>\n",
       "    </tr>\n",
       "    <tr>\n",
       "      <th>Ford High School</th>\n",
       "      <td>District</td>\n",
       "      <td>2739</td>\n",
       "      <td>$1,763,916.00</td>\n",
       "      <td>$644.00</td>\n",
       "      <td>77.102592</td>\n",
       "      <td>80.746258</td>\n",
       "      <td>65.753925</td>\n",
       "      <td>77.510040</td>\n",
       "      <td>71.631982</td>\n",
       "    </tr>\n",
       "    <tr>\n",
       "      <th>Thomas High School</th>\n",
       "      <td>Charter</td>\n",
       "      <td>1635</td>\n",
       "      <td>$1,043,130.00</td>\n",
       "      <td>$638.00</td>\n",
       "      <td>83.418349</td>\n",
       "      <td>83.848930</td>\n",
       "      <td>90.214067</td>\n",
       "      <td>92.905199</td>\n",
       "      <td>91.559633</td>\n",
       "    </tr>\n",
       "  </tbody>\n",
       "</table>\n",
       "</div>"
      ],
      "text/plain": [
       "                      School Type  Total Students Total School Budget  \\\n",
       "Huang High School        District            2917       $1,910,635.00   \n",
       "Figueroa High School     District            2949       $1,884,411.00   \n",
       "Shelton High School       Charter            1761       $1,056,600.00   \n",
       "Hernandez High School    District            4635       $3,022,020.00   \n",
       "Griffin High School       Charter            1468         $917,500.00   \n",
       "Wilson High School        Charter            2283       $1,319,574.00   \n",
       "Cabrera High School       Charter            1858       $1,081,356.00   \n",
       "Bailey High School       District            4976       $3,124,928.00   \n",
       "Holden High School        Charter             427         $248,087.00   \n",
       "Pena High School          Charter             962         $585,858.00   \n",
       "Wright High School        Charter            1800       $1,049,400.00   \n",
       "Rodriguez High School    District            3999       $2,547,363.00   \n",
       "Johnson High School      District            4761       $3,094,650.00   \n",
       "Ford High School         District            2739       $1,763,916.00   \n",
       "Thomas High School        Charter            1635       $1,043,130.00   \n",
       "\n",
       "                      Per Student Budget  Average Math Score  \\\n",
       "Huang High School                $655.00           76.629414   \n",
       "Figueroa High School             $639.00           76.711767   \n",
       "Shelton High School              $600.00           83.359455   \n",
       "Hernandez High School            $652.00           77.289752   \n",
       "Griffin High School              $625.00           83.351499   \n",
       "Wilson High School               $578.00           83.274201   \n",
       "Cabrera High School              $582.00           83.061895   \n",
       "Bailey High School               $628.00           77.048432   \n",
       "Holden High School               $581.00           83.803279   \n",
       "Pena High School                 $609.00           83.839917   \n",
       "Wright High School               $583.00           83.682222   \n",
       "Rodriguez High School            $637.00           76.842711   \n",
       "Johnson High School              $650.00           77.072464   \n",
       "Ford High School                 $644.00           77.102592   \n",
       "Thomas High School               $638.00           83.418349   \n",
       "\n",
       "                       Average Reading Score  % Passing Math  \\\n",
       "Huang High School                  81.182722       63.318478   \n",
       "Figueroa High School               81.158020       63.750424   \n",
       "Shelton High School                83.725724       89.892107   \n",
       "Hernandez High School              80.934412       64.746494   \n",
       "Griffin High School                83.816757       89.713896   \n",
       "Wilson High School                 83.989488       90.932983   \n",
       "Cabrera High School                83.975780       89.558665   \n",
       "Bailey High School                 81.033963       64.630225   \n",
       "Holden High School                 83.814988       90.632319   \n",
       "Pena High School                   84.044699       91.683992   \n",
       "Wright High School                 83.955000       90.277778   \n",
       "Rodriguez High School              80.744686       64.066017   \n",
       "Johnson High School                80.966394       63.852132   \n",
       "Ford High School                   80.746258       65.753925   \n",
       "Thomas High School                 83.848930       90.214067   \n",
       "\n",
       "                       % Passing Reading  Overall Passing Rate  \n",
       "Huang High School              78.813850             71.066164  \n",
       "Figueroa High School           78.433367             71.091896  \n",
       "Shelton High School            92.617831             91.254969  \n",
       "Hernandez High School          78.187702             71.467098  \n",
       "Griffin High School            93.392371             91.553134  \n",
       "Wilson High School             93.254490             92.093736  \n",
       "Cabrera High School            93.864370             91.711518  \n",
       "Bailey High School             79.300643             71.965434  \n",
       "Holden High School             92.740047             91.686183  \n",
       "Pena High School               92.203742             91.943867  \n",
       "Wright High School             93.444444             91.861111  \n",
       "Rodriguez High School          77.744436             70.905226  \n",
       "Johnson High School            78.281874             71.067003  \n",
       "Ford High School               77.510040             71.631982  \n",
       "Thomas High School             92.905199             91.559633  "
      ]
     },
     "execution_count": 610,
     "metadata": {},
     "output_type": "execute_result"
    }
   ],
   "source": [
    "# create district_summary dataframe for display\n",
    "school_summary_df = pd.DataFrame({'School Name': super_school_df['school'],\n",
    "                               'School Type': super_school_df['type'],\n",
    "                               'Total Students': super_school_df['size'],\n",
    "                               'Total School Budget': super_school_df['budget'],\n",
    "                               'Per Student Budget': (super_school_df['budget'] / super_school_df['size']),\n",
    "                                \n",
    "                                'Average Math Score': super_school_df['avg_math_score'],\n",
    "                               'Average Reading Score': super_school_df['avg_reading_score'],\n",
    "                               '% Passing Math': pct_students_passing_math_school,\n",
    "                               '% Passing Reading': pct_students_passing_reading_school,\n",
    "                               'Overall Passing Rate': overall_passing_rate_school})\n",
    "\n",
    "school_summary_df['Total School Budget'] = school_summary_df['Total School Budget'].map('${:,.2f}'.format)\n",
    "school_summary_df['Per Student Budget'] = school_summary_df['Per Student Budget'].map('${:,.2f}'.format)\n",
    "\n",
    "school_summary_df = school_summary_df[['School Name', 'School Type', 'Total Students', 'Total School Budget',\n",
    "                                 'Per Student Budget', 'Average Math Score', 'Average Reading Score',\n",
    "                                 '% Passing Math', '% Passing Reading', 'Overall Passing Rate']] \\\n",
    "                                 .set_index('School Name').rename_axis(None)\n",
    "               \n",
    "school_summary_df\n",
    "          "
   ]
  },
  {
   "cell_type": "markdown",
   "metadata": {},
   "source": [
    "# Top Performing School (By Passing Rate)"
   ]
  },
  {
   "cell_type": "code",
   "execution_count": 611,
   "metadata": {},
   "outputs": [
    {
     "data": {
      "text/html": [
       "<div>\n",
       "<style scoped>\n",
       "    .dataframe tbody tr th:only-of-type {\n",
       "        vertical-align: middle;\n",
       "    }\n",
       "\n",
       "    .dataframe tbody tr th {\n",
       "        vertical-align: top;\n",
       "    }\n",
       "\n",
       "    .dataframe thead th {\n",
       "        text-align: right;\n",
       "    }\n",
       "</style>\n",
       "<table border=\"1\" class=\"dataframe\">\n",
       "  <thead>\n",
       "    <tr style=\"text-align: right;\">\n",
       "      <th></th>\n",
       "      <th>School Type</th>\n",
       "      <th>Total Students</th>\n",
       "      <th>Total School Budget</th>\n",
       "      <th>Per Student Budget</th>\n",
       "      <th>Average Math Score</th>\n",
       "      <th>Average Reading Score</th>\n",
       "      <th>% Passing Math</th>\n",
       "      <th>% Passing Reading</th>\n",
       "      <th>Overall Passing Rate</th>\n",
       "    </tr>\n",
       "  </thead>\n",
       "  <tbody>\n",
       "    <tr>\n",
       "      <th>Wilson High School</th>\n",
       "      <td>Charter</td>\n",
       "      <td>2283</td>\n",
       "      <td>$1,319,574.00</td>\n",
       "      <td>$578.00</td>\n",
       "      <td>83.274201</td>\n",
       "      <td>83.989488</td>\n",
       "      <td>90.932983</td>\n",
       "      <td>93.254490</td>\n",
       "      <td>92.093736</td>\n",
       "    </tr>\n",
       "    <tr>\n",
       "      <th>Pena High School</th>\n",
       "      <td>Charter</td>\n",
       "      <td>962</td>\n",
       "      <td>$585,858.00</td>\n",
       "      <td>$609.00</td>\n",
       "      <td>83.839917</td>\n",
       "      <td>84.044699</td>\n",
       "      <td>91.683992</td>\n",
       "      <td>92.203742</td>\n",
       "      <td>91.943867</td>\n",
       "    </tr>\n",
       "    <tr>\n",
       "      <th>Wright High School</th>\n",
       "      <td>Charter</td>\n",
       "      <td>1800</td>\n",
       "      <td>$1,049,400.00</td>\n",
       "      <td>$583.00</td>\n",
       "      <td>83.682222</td>\n",
       "      <td>83.955000</td>\n",
       "      <td>90.277778</td>\n",
       "      <td>93.444444</td>\n",
       "      <td>91.861111</td>\n",
       "    </tr>\n",
       "    <tr>\n",
       "      <th>Cabrera High School</th>\n",
       "      <td>Charter</td>\n",
       "      <td>1858</td>\n",
       "      <td>$1,081,356.00</td>\n",
       "      <td>$582.00</td>\n",
       "      <td>83.061895</td>\n",
       "      <td>83.975780</td>\n",
       "      <td>89.558665</td>\n",
       "      <td>93.864370</td>\n",
       "      <td>91.711518</td>\n",
       "    </tr>\n",
       "    <tr>\n",
       "      <th>Holden High School</th>\n",
       "      <td>Charter</td>\n",
       "      <td>427</td>\n",
       "      <td>$248,087.00</td>\n",
       "      <td>$581.00</td>\n",
       "      <td>83.803279</td>\n",
       "      <td>83.814988</td>\n",
       "      <td>90.632319</td>\n",
       "      <td>92.740047</td>\n",
       "      <td>91.686183</td>\n",
       "    </tr>\n",
       "  </tbody>\n",
       "</table>\n",
       "</div>"
      ],
      "text/plain": [
       "                    School Type  Total Students Total School Budget  \\\n",
       "Wilson High School      Charter            2283       $1,319,574.00   \n",
       "Pena High School        Charter             962         $585,858.00   \n",
       "Wright High School      Charter            1800       $1,049,400.00   \n",
       "Cabrera High School     Charter            1858       $1,081,356.00   \n",
       "Holden High School      Charter             427         $248,087.00   \n",
       "\n",
       "                    Per Student Budget  Average Math Score  \\\n",
       "Wilson High School             $578.00           83.274201   \n",
       "Pena High School               $609.00           83.839917   \n",
       "Wright High School             $583.00           83.682222   \n",
       "Cabrera High School            $582.00           83.061895   \n",
       "Holden High School             $581.00           83.803279   \n",
       "\n",
       "                     Average Reading Score  % Passing Math  % Passing Reading  \\\n",
       "Wilson High School               83.989488       90.932983          93.254490   \n",
       "Pena High School                 84.044699       91.683992          92.203742   \n",
       "Wright High School               83.955000       90.277778          93.444444   \n",
       "Cabrera High School              83.975780       89.558665          93.864370   \n",
       "Holden High School               83.814988       90.632319          92.740047   \n",
       "\n",
       "                     Overall Passing Rate  \n",
       "Wilson High School              92.093736  \n",
       "Pena High School                91.943867  \n",
       "Wright High School              91.861111  \n",
       "Cabrera High School             91.711518  \n",
       "Holden High School              91.686183  "
      ]
     },
     "execution_count": 611,
     "metadata": {},
     "output_type": "execute_result"
    }
   ],
   "source": [
    "top_performing_schools_df = school_summary_df.nlargest(5, 'Overall Passing Rate')\n",
    "top_performing_schools_df"
   ]
  },
  {
   "cell_type": "markdown",
   "metadata": {},
   "source": [
    "# Last Performing Schools"
   ]
  },
  {
   "cell_type": "code",
   "execution_count": 612,
   "metadata": {},
   "outputs": [
    {
     "data": {
      "text/html": [
       "<div>\n",
       "<style scoped>\n",
       "    .dataframe tbody tr th:only-of-type {\n",
       "        vertical-align: middle;\n",
       "    }\n",
       "\n",
       "    .dataframe tbody tr th {\n",
       "        vertical-align: top;\n",
       "    }\n",
       "\n",
       "    .dataframe thead th {\n",
       "        text-align: right;\n",
       "    }\n",
       "</style>\n",
       "<table border=\"1\" class=\"dataframe\">\n",
       "  <thead>\n",
       "    <tr style=\"text-align: right;\">\n",
       "      <th></th>\n",
       "      <th>School Type</th>\n",
       "      <th>Total Students</th>\n",
       "      <th>Total School Budget</th>\n",
       "      <th>Per Student Budget</th>\n",
       "      <th>Average Math Score</th>\n",
       "      <th>Average Reading Score</th>\n",
       "      <th>% Passing Math</th>\n",
       "      <th>% Passing Reading</th>\n",
       "      <th>Overall Passing Rate</th>\n",
       "    </tr>\n",
       "  </thead>\n",
       "  <tbody>\n",
       "    <tr>\n",
       "      <th>Rodriguez High School</th>\n",
       "      <td>District</td>\n",
       "      <td>3999</td>\n",
       "      <td>$2,547,363.00</td>\n",
       "      <td>$637.00</td>\n",
       "      <td>76.842711</td>\n",
       "      <td>80.744686</td>\n",
       "      <td>64.066017</td>\n",
       "      <td>77.744436</td>\n",
       "      <td>70.905226</td>\n",
       "    </tr>\n",
       "    <tr>\n",
       "      <th>Huang High School</th>\n",
       "      <td>District</td>\n",
       "      <td>2917</td>\n",
       "      <td>$1,910,635.00</td>\n",
       "      <td>$655.00</td>\n",
       "      <td>76.629414</td>\n",
       "      <td>81.182722</td>\n",
       "      <td>63.318478</td>\n",
       "      <td>78.813850</td>\n",
       "      <td>71.066164</td>\n",
       "    </tr>\n",
       "    <tr>\n",
       "      <th>Johnson High School</th>\n",
       "      <td>District</td>\n",
       "      <td>4761</td>\n",
       "      <td>$3,094,650.00</td>\n",
       "      <td>$650.00</td>\n",
       "      <td>77.072464</td>\n",
       "      <td>80.966394</td>\n",
       "      <td>63.852132</td>\n",
       "      <td>78.281874</td>\n",
       "      <td>71.067003</td>\n",
       "    </tr>\n",
       "    <tr>\n",
       "      <th>Figueroa High School</th>\n",
       "      <td>District</td>\n",
       "      <td>2949</td>\n",
       "      <td>$1,884,411.00</td>\n",
       "      <td>$639.00</td>\n",
       "      <td>76.711767</td>\n",
       "      <td>81.158020</td>\n",
       "      <td>63.750424</td>\n",
       "      <td>78.433367</td>\n",
       "      <td>71.091896</td>\n",
       "    </tr>\n",
       "    <tr>\n",
       "      <th>Hernandez High School</th>\n",
       "      <td>District</td>\n",
       "      <td>4635</td>\n",
       "      <td>$3,022,020.00</td>\n",
       "      <td>$652.00</td>\n",
       "      <td>77.289752</td>\n",
       "      <td>80.934412</td>\n",
       "      <td>64.746494</td>\n",
       "      <td>78.187702</td>\n",
       "      <td>71.467098</td>\n",
       "    </tr>\n",
       "  </tbody>\n",
       "</table>\n",
       "</div>"
      ],
      "text/plain": [
       "                      School Type  Total Students Total School Budget  \\\n",
       "Rodriguez High School    District            3999       $2,547,363.00   \n",
       "Huang High School        District            2917       $1,910,635.00   \n",
       "Johnson High School      District            4761       $3,094,650.00   \n",
       "Figueroa High School     District            2949       $1,884,411.00   \n",
       "Hernandez High School    District            4635       $3,022,020.00   \n",
       "\n",
       "                      Per Student Budget  Average Math Score  \\\n",
       "Rodriguez High School            $637.00           76.842711   \n",
       "Huang High School                $655.00           76.629414   \n",
       "Johnson High School              $650.00           77.072464   \n",
       "Figueroa High School             $639.00           76.711767   \n",
       "Hernandez High School            $652.00           77.289752   \n",
       "\n",
       "                       Average Reading Score  % Passing Math  \\\n",
       "Rodriguez High School              80.744686       64.066017   \n",
       "Huang High School                  81.182722       63.318478   \n",
       "Johnson High School                80.966394       63.852132   \n",
       "Figueroa High School               81.158020       63.750424   \n",
       "Hernandez High School              80.934412       64.746494   \n",
       "\n",
       "                       % Passing Reading  Overall Passing Rate  \n",
       "Rodriguez High School          77.744436             70.905226  \n",
       "Huang High School              78.813850             71.066164  \n",
       "Johnson High School            78.281874             71.067003  \n",
       "Figueroa High School           78.433367             71.091896  \n",
       "Hernandez High School          78.187702             71.467098  "
      ]
     },
     "execution_count": 612,
     "metadata": {},
     "output_type": "execute_result"
    }
   ],
   "source": [
    "last_performing_school_df = school_summary_df.nsmallest(5, \"Overall Passing Rate\")\n",
    "last_performing_school_df"
   ]
  },
  {
   "cell_type": "markdown",
   "metadata": {},
   "source": [
    "# Math Score By Grade"
   ]
  },
  {
   "cell_type": "code",
   "execution_count": 616,
   "metadata": {},
   "outputs": [
    {
     "ename": "SyntaxError",
     "evalue": "unexpected EOF while parsing (<ipython-input-616-2fb12e0c804c>, line 21)",
     "traceback": [
      "\u001b[0;36m  File \u001b[0;32m\"<ipython-input-616-2fb12e0c804c>\"\u001b[0;36m, line \u001b[0;32m21\u001b[0m\n\u001b[0;31m    twelth_grade_df = pd.DataFrame({\"school\": twelfth_grade_df[\"school\"]\u001b[0m\n\u001b[0m                                                                        ^\u001b[0m\n\u001b[0;31mSyntaxError\u001b[0m\u001b[0;31m:\u001b[0m unexpected EOF while parsing\n"
     ],
     "output_type": "error"
    }
   ],
   "source": [
    "# use groupby to create a dataset grouped by high school and grade, then average the columns and reset the indexes\n",
    "#so we can reuse the school and grade columns later\n",
    "average_score_by_high_school_df = student_df.groupby(\"school\", \"grade\").mean().reset_index()\n",
    "\n",
    "\n",
    "#Use the loc function to isolate individual grades\n",
    "ninth_grade_df = average_score_by_high_school_df.loc[average_score_by_high_school_df[\"grade\"] == \"9th\"]\n",
    "tenth_grade_df = average_score_by_high_school_df.loc[average_score_by_high_school_df[\"grade\"] == \"10th\"]\n",
    "eleventh_grade_df = average_score_by_high_school_df.loc[average_score_by_high_school_df[\"grade\"] == \"11th\"]\n",
    "twelth_grade_df = average_score_by_high_school_df.loc[average_score_by_high_school_df[\"grade\"] == \"12th\"]\n",
    "\n",
    "#Reduce dataFrame to School, Math score, reading score\n",
    "ninth_grade_df = pd.DataFrame({\"school\": ninth_grade_df[\"school\"],\n",
    "                              \"reading_score_9th\": ninth_grade_df[\"reading_score\"],\n",
    "                               \"math_score_9th\": ninth_grade_df[\"math_score\"]})\n",
    "\n",
    "tenth_grade_df = pd.DataFrame({\"school\": tenth_grade_df[\"school\"],\n",
    "                              \"reading_score_10th\": tenth_grade_df[\"reading_score\"],\n",
    "  \n",
    "                               \"math_score_10th\": tenth_grade_df[\"math_score\"]})\n",
    "twelth_grade_df = pd.DataFrame({\"school\": twelfth_grade_df[\"school\"]"
   ]
  },
  {
   "cell_type": "code",
   "execution_count": 615,
   "metadata": {},
   "outputs": [
    {
     "ename": "SyntaxError",
     "evalue": "invalid syntax (<ipython-input-615-703966e06544>, line 1)",
     "traceback": [
      "\u001b[0;36m  File \u001b[0;32m\"<ipython-input-615-703966e06544>\"\u001b[0;36m, line \u001b[0;32m1\u001b[0m\n\u001b[0;31m    \"reading_score_12th\": twelth_grade_df['reading_score'],\u001b[0m\n\u001b[0m                                                          ^\u001b[0m\n\u001b[0;31mSyntaxError\u001b[0m\u001b[0;31m:\u001b[0m invalid syntax\n"
     ],
     "output_type": "error"
    }
   ],
   "source": [
    "                                   \"reading_score_12th\": twelth_grade_df['reading_score'],\n",
    "                                   \"math_score_12th\": twelth_grade_df['math_score']})\n",
    "\n",
    "scores_by_grade_hs_df = pd.merge(ninth_grade_red_df, tenth_grade_red_df, on=\"school\").merge(eleventh_grade_red_df, on=\"school\").merge(twelth_grade_red_df, on=\"school\") \n",
    "\n",
    "                           \n",
    "                                        \n",
    "\n",
    "math_score_by_grade_df = pd.DataFrame({\"school\": scores_by_grade_hs_df[\"school\"],\n",
    "                                       \"9th\": scores_by_grade_hs_df[\"math_score_9th\"], \n",
    "                                        \"10th\": scores_by_grade_hs_df[\"math_score_10th\"], \n",
    "                                        \"11th\": scores_by_grade_hs_df[\"math_score_11th\"],\n",
    "                                        \"12th\": scores_by_grade_hs_df[\"math_score_12th\"]})\n",
    "\n",
    "math_score_by_grade_df = math_score_by_grade_df[[\"school\", \"9th\", \"10th\", \"11th\", \"12th\"]].set_index(\"school\").rename_axis(None)\n",
    "                                               \n",
    "math_score_by_grade_df.head() \n",
    "\n",
    "                                "
   ]
  },
  {
   "cell_type": "markdown",
   "metadata": {},
   "source": [
    "# Reading Score By Grade"
   ]
  },
  {
   "cell_type": "code",
   "execution_count": null,
   "metadata": {},
   "outputs": [],
   "source": [
    "#This table uses the average score and grade-level datasets from Math Scores By Grade to reduce processing\n",
    "reading_scores_by_grade_df = pd.DataFrame({'school': scores_by_grade_hs_df['school'],\n",
    "                                        '9th': scores_by_grade_hs_df['reading_score_9th'],\n",
    "                                        '10th': scores_by_grade_hs_df['reading_score_10th'],\n",
    "                                        '11th': scores_by_grade_hs_df['reading_score_11th'],\n",
    "                                        '12th': scores_by_grade_hs_df['reading_score_12th']})\n",
    "\n",
    "reading_scores_by_grade_df = reading_scores_by_grade_df[['school', '9th', '10th', '11th', '12th']] .set_index('school').rename_axis(None)\n",
    "                \n",
    "reading_scores_by_grade_df"
   ]
  },
  {
   "cell_type": "markdown",
   "metadata": {},
   "source": [
    "# Scores by School Spending"
   ]
  },
  {
   "cell_type": "code",
   "execution_count": null,
   "metadata": {},
   "outputs": [],
   "source": [
    "school_summary_df.head()"
   ]
  },
  {
   "cell_type": "code",
   "execution_count": null,
   "metadata": {
    "collapsed": true
   },
   "outputs": [],
   "source": [
    "#create bins to hold values\n",
    "bins = [0, 585, 615, 645, 675]\n",
    "\n",
    "#create groups for each bin\n",
    "view_groups = ['>$585', '\\$585-\\$615', '\\$615-\\$645', '\\$645-\\$675']\n"
   ]
  },
  {
   "cell_type": "code",
   "execution_count": null,
   "metadata": {},
   "outputs": [],
   "source": [
    "school_summary_df"
   ]
  },
  {
   "cell_type": "code",
   "execution_count": null,
   "metadata": {
    "collapsed": true
   },
   "outputs": [],
   "source": [
    "school_summary_spending = school_summary_df.copy()"
   ]
  },
  {
   "cell_type": "code",
   "execution_count": null,
   "metadata": {
    "collapsed": true
   },
   "outputs": [],
   "source": [
    "school_summary_spending['Per Student Budget'] = school_summary_spending['Per Student Budget']\\\n",
    ".replace( '[\\$]','',regex=True).astype('float')"
   ]
  },
  {
   "cell_type": "code",
   "execution_count": null,
   "metadata": {
    "collapsed": true
   },
   "outputs": [],
   "source": [
    "school_summary_spending['Spending Ranges (Per Student)'] = pd.cut(school_summary_spending['Per Student Budget'],\n",
    "                                                                   bins, labels=view_groups)\n"
   ]
  },
  {
   "cell_type": "code",
   "execution_count": null,
   "metadata": {},
   "outputs": [],
   "source": [
    "school_summary_spending = school_summary_spending[['Average Math Score', 'Average Reading Score',\n",
    "                                          '% Passing Math', '% Passing Reading', 'Overall Passing Rate',\n",
    "                                          'Spending Ranges (Per Student)']]\n",
    "school_summary_spending.head()"
   ]
  },
  {
   "cell_type": "code",
   "execution_count": null,
   "metadata": {},
   "outputs": [],
   "source": [
    "scores_by_school_spending_df = school_summary_spending.groupby('Spending Ranges (Per Student)')\n",
    "scores_by_school_spending_df.mean()"
   ]
  },
  {
   "cell_type": "markdown",
   "metadata": {},
   "source": [
    "# Scores by School size"
   ]
  },
  {
   "cell_type": "code",
   "execution_count": null,
   "metadata": {
    "collapsed": true
   },
   "outputs": [],
   "source": [
    "school_summary_size = school_summary_df.copy()\n"
   ]
  },
  {
   "cell_type": "code",
   "execution_count": null,
   "metadata": {
    "collapsed": true
   },
   "outputs": [],
   "source": [
    "#create bins to hold values\n",
    "bins = [0, 1000, 2000, 5000]\n",
    "\n",
    "#create groups for each bin\n",
    "view_groups = ['Small (<1000)', 'Medium (1000-2000)', 'Large (2000-5000)']"
   ]
  },
  {
   "cell_type": "code",
   "execution_count": null,
   "metadata": {
    "collapsed": true
   },
   "outputs": [],
   "source": [
    "school_summary_size['Total Students'] = pd.to_numeric(school_summary_size['Total Students'])\n",
    "school_summary_size['School Size'] = pd.cut(school_summary_size['Total Students'],\n",
    "                                                                  bins, labels=view_groups)"
   ]
  },
  {
   "cell_type": "code",
   "execution_count": null,
   "metadata": {},
   "outputs": [],
   "source": [
    "school_summary_size"
   ]
  },
  {
   "cell_type": "code",
   "execution_count": null,
   "metadata": {},
   "outputs": [],
   "source": [
    "school_summary_size = school_summary_size[['Average Math Score', 'Average Reading Score',\n",
    "                                          '% Passing Math', '% Passing Reading', 'Overall Passing Rate',\n",
    "                                          'School Size']]\n",
    "school_summary_size"
   ]
  },
  {
   "cell_type": "code",
   "execution_count": null,
   "metadata": {},
   "outputs": [],
   "source": [
    "scores_by_school_size_df = school_summary_size.groupby('School Size')\n",
    "scores_by_school_size_df.mean()"
   ]
  },
  {
   "cell_type": "markdown",
   "metadata": {},
   "source": [
    "# Scores By School Type"
   ]
  },
  {
   "cell_type": "code",
   "execution_count": null,
   "metadata": {
    "collapsed": true
   },
   "outputs": [],
   "source": [
    "school_summary_type = school_summary_df.copy()"
   ]
  },
  {
   "cell_type": "code",
   "execution_count": null,
   "metadata": {},
   "outputs": [],
   "source": [
    "school_summary_type = school_summary_type[['School Type','Average Math Score', 'Average Reading Score',\n",
    "                                          '% Passing Math', '% Passing Reading', 'Overall Passing Rate']]\n",
    "                                          \n",
    "school_summary_type"
   ]
  },
  {
   "cell_type": "code",
   "execution_count": null,
   "metadata": {},
   "outputs": [],
   "source": [
    "scores_by_school_type_df = school_summary_type.groupby('School Type')\n",
    "scores_by_school_type_df.mean()"
   ]
  },
  {
   "cell_type": "code",
   "execution_count": null,
   "metadata": {
    "collapsed": true
   },
   "outputs": [],
   "source": []
  }
 ],
 "metadata": {
  "kernelspec": {
   "display_name": "Python [conda env:PythoDatal]",
   "language": "python",
   "name": "conda-env-PythoDatal-py"
  },
  "language_info": {
   "codemirror_mode": {
    "name": "ipython",
    "version": 3
   },
   "file_extension": ".py",
   "mimetype": "text/x-python",
   "name": "python",
   "nbconvert_exporter": "python",
   "pygments_lexer": "ipython3",
   "version": "3.6.4"
  }
 },
 "nbformat": 4,
 "nbformat_minor": 2
}
